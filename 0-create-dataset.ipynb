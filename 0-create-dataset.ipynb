{
 "cells": [
  {
   "cell_type": "code",
   "execution_count": 9,
   "id": "9cf08b39-e7f7-4477-a9d4-07b3a2d1514d",
   "metadata": {},
   "outputs": [
    {
     "name": "stdout",
     "output_type": "stream",
     "text": [
      "--2022-03-01 00:41:28--  https://raw.githubusercontent.com/nephre/reddit-media-downloader/master/reddit.py\n",
      "Resolving raw.githubusercontent.com (raw.githubusercontent.com)... 185.199.109.133, 185.199.108.133, 185.199.111.133, ...\n",
      "Connecting to raw.githubusercontent.com (raw.githubusercontent.com)|185.199.109.133|:443... connected.\n",
      "HTTP request sent, awaiting response... 200 OK\n",
      "Length: 4703 (4.6K) [text/plain]\n",
      "Saving to: 'download-img-reddit.py'\n",
      "\n",
      "download-img-reddit 100%[===================>]   4.59K  --.-KB/s    in 0s      \n",
      "\n",
      "2022-03-01 00:41:28 (59.3 MB/s) - 'download-img-reddit.py' saved [4703/4703]\n",
      "\n"
     ]
    }
   ],
   "source": [
    "!wget -O 'download-img-reddit.py' https://raw.githubusercontent.com/nephre/reddit-media-downloader/master/reddit.py"
   ]
  },
  {
   "cell_type": "code",
   "execution_count": 17,
   "id": "d26b3fa4-4149-4c2e-aab6-43c054e63fdf",
   "metadata": {},
   "outputs": [],
   "source": [
    "# !python 'download-img-reddit.py' -r yerbamate -t 4 --images-only"
   ]
  },
  {
   "cell_type": "code",
   "execution_count": 18,
   "id": "757940d3-8867-484a-95ac-3bb176a46129",
   "metadata": {},
   "outputs": [],
   "source": [
    "# !cd downloads/yerbamate/ && ls -1 | wc -l"
   ]
  }
 ],
 "metadata": {
  "kernelspec": {
   "display_name": "default:Python",
   "language": "python",
   "name": "conda-env-default-py"
  },
  "language_info": {
   "codemirror_mode": {
    "name": "ipython",
    "version": 3
   },
   "file_extension": ".py",
   "mimetype": "text/x-python",
   "name": "python",
   "nbconvert_exporter": "python",
   "pygments_lexer": "ipython3",
   "version": "3.9.7"
  }
 },
 "nbformat": 4,
 "nbformat_minor": 5
}
